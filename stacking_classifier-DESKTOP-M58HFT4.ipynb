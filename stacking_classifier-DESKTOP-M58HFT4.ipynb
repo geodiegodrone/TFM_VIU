{
 "cells": [
  {
   "cell_type": "code",
   "execution_count": 1,
   "metadata": {},
   "outputs": [],
   "source": [
    "## El siguiente código combina RandomForest, XGBoost, y LogisticRegression como meta-estimador.\n"
   ]
  },
  {
   "cell_type": "code",
   "execution_count": 2,
   "metadata": {},
   "outputs": [],
   "source": [
    "import dask.dataframe as dd\n",
    "from sklearn.model_selection import train_test_split\n",
    "from imblearn.over_sampling import SMOTE\n",
    "from imblearn.under_sampling import RandomUnderSampler\n",
    "from imblearn.pipeline import Pipeline\n",
    "import xgboost as xgb\n",
    "from sklearn.ensemble import RandomForestClassifier, GradientBoostingClassifier\n",
    "from sklearn.linear_model import LogisticRegression\n",
    "from sklearn.ensemble import StackingClassifier\n",
    "from sklearn.metrics import classification_report, roc_auc_score, accuracy_score, confusion_matrix\n",
    "from sklearn.model_selection import RandomizedSearchCV\n",
    "import matplotlib.pyplot as plt\n",
    "import seaborn as sns\n",
    "import gc\n",
    "import pandas as pd"
   ]
  },
  {
   "cell_type": "code",
   "execution_count": 3,
   "metadata": {},
   "outputs": [
    {
     "data": {
      "text/plain": [
       "50"
      ]
     },
     "execution_count": 3,
     "metadata": {},
     "output_type": "execute_result"
    }
   ],
   "source": [
    "# Cargar el DataFrame desde el archivo Parquet utilizando Dask\n",
    "data_dd = dd.read_parquet(r'C:\\Users\\HOME\\OneDrive - Universidad Nacional de Colombia\\maestria_big_data\\clases\\TFM\\codigo_TFM\\data.parquet', engine='pyarrow')\n",
    "X = data_dd['susceptibilidad'].compute().values.reshape(-1, 1)\n",
    "y = data_dd['inventario'].compute()\n",
    "\n",
    "# Dividir los datos en conjuntos de entrenamiento, validación y prueba\n",
    "X_train, X_test, y_train, y_test = train_test_split(X, y, test_size=0.2, random_state=42)\n",
    "X_train, X_val, y_train, y_val = train_test_split(X_train, y_train, test_size=0.25, random_state=42)  # 0.25 x 0.8 = 0.2\n",
    "gc.collect()"
   ]
  },
  {
   "cell_type": "code",
   "execution_count": 4,
   "metadata": {},
   "outputs": [
    {
     "name": "stdout",
     "output_type": "stream",
     "text": [
      "After resampling, class distribution: 0.0    6327\n",
      "1.0    4429\n",
      "Name: inventario, dtype: int64\n"
     ]
    }
   ],
   "source": [
    "from imblearn.over_sampling import SMOTE\n",
    "from imblearn.under_sampling import RandomUnderSampler\n",
    "from imblearn.pipeline import Pipeline\n",
    "\n",
    "# Configurar SMOTE y undersampling con parámetros ajustados\n",
    "smote = SMOTE(sampling_strategy=0.5, random_state=42)  # Ajusta el ratio a 0.5 para mayor equilibrio\n",
    "under = RandomUnderSampler(sampling_strategy=0.7, random_state=42)  # Mantén una proporción razonable\n",
    "\n",
    "# Crear pipeline con SMOTE seguido por undersampling\n",
    "pipeline = Pipeline(steps=[('over', smote), ('under', under)])\n",
    "\n",
    "# Aplicar el pipeline para balancear los datos de entrenamiento\n",
    "X_train_resampled, y_train_resampled = pipeline.fit_resample(X_train, y_train)\n",
    "\n",
    "print(f\"After resampling, class distribution: {pd.Series(y_train_resampled).value_counts()}\")\n"
   ]
  },
  {
   "cell_type": "code",
   "execution_count": 5,
   "metadata": {},
   "outputs": [],
   "source": [
    "# Definir modelos base\n",
    "base_learners = [\n",
    "    ('rf', RandomForestClassifier(random_state=42)),\n",
    "    ('xgb', xgb.XGBClassifier(use_label_encoder=False, random_state=42)),\n",
    "]\n",
    "\n",
    "# Meta-estimador\n",
    "meta_learner = LogisticRegression(max_iter=1000, random_state=42)\n",
    "\n",
    "# Stacking ensemble\n",
    "stack_model = StackingClassifier(\n",
    "    estimators=base_learners,\n",
    "    final_estimator=meta_learner,\n",
    "    n_jobs=-1\n",
    ")\n"
   ]
  },
  {
   "cell_type": "code",
   "execution_count": 6,
   "metadata": {},
   "outputs": [
    {
     "name": "stdout",
     "output_type": "stream",
     "text": [
      "Fitting 3 folds for each of 50 candidates, totalling 150 fits\n",
      "Best parameters found:  {'xgb__scale_pos_weight': 1, 'xgb__n_estimators': 50, 'xgb__max_depth': 3, 'xgb__learning_rate': 0.01, 'rf__n_estimators': 200, 'rf__min_samples_split': 5, 'rf__min_samples_leaf': 4, 'rf__max_depth': 10, 'rf__class_weight': {0: 1, 1: 10}}\n"
     ]
    }
   ],
   "source": [
    "# Definir parámetros para la búsqueda\n",
    "param_grid = {\n",
    "    'rf__n_estimators': [100, 200, 300],\n",
    "    'rf__max_depth': [None, 10, 20],\n",
    "    'rf__min_samples_split': [2, 5, 10],\n",
    "    'rf__min_samples_leaf': [1, 2, 4],\n",
    "    'rf__class_weight': ['balanced', {0: 1, 1: 5}, {0: 1, 1: 10}],\n",
    "    'xgb__learning_rate': [0.01, 0.1, 0.2],\n",
    "    'xgb__n_estimators': [50, 100, 200],\n",
    "    'xgb__max_depth': [3, 6, 10],\n",
    "    'xgb__scale_pos_weight': [1, len(y_train_resampled) / sum(y_train_resampled)],\n",
    "}\n",
    "\n",
    "# Configurar RandomizedSearchCV\n",
    "random_search = RandomizedSearchCV(\n",
    "    estimator=stack_model,\n",
    "    param_distributions=param_grid,\n",
    "    n_iter=50,\n",
    "    scoring='roc_auc',\n",
    "    cv=3,\n",
    "    verbose=2,\n",
    "    random_state=42,\n",
    "    n_jobs=-1\n",
    ")\n",
    "\n",
    "# Ejecutar búsqueda\n",
    "random_search.fit(X_train_resampled, y_train_resampled)\n",
    "\n",
    "# Mostrar los mejores hiperparámetros encontrados\n",
    "print(\"Best parameters found: \", random_search.best_params_)\n"
   ]
  },
  {
   "cell_type": "code",
   "execution_count": 7,
   "metadata": {},
   "outputs": [
    {
     "name": "stdout",
     "output_type": "stream",
     "text": [
      "Accuracy: 0.34866581956797965\n",
      "ROC AUC: 0.4927715689626169\n",
      "              precision    recall  f1-score   support\n",
      "\n",
      "         0.0       0.74      0.19      0.31      2928\n",
      "         1.0       0.25      0.80      0.39      1007\n",
      "\n",
      "    accuracy                           0.35      3935\n",
      "   macro avg       0.50      0.50      0.35      3935\n",
      "weighted avg       0.61      0.35      0.33      3935\n",
      "\n",
      "Accuracy: 0.3470528455284553\n",
      "ROC AUC: 0.4962709414579205\n",
      "              precision    recall  f1-score   support\n",
      "\n",
      "         0.0       0.75      0.19      0.31      2955\n",
      "         1.0       0.25      0.81      0.38       981\n",
      "\n",
      "    accuracy                           0.35      3936\n",
      "   macro avg       0.50      0.50      0.34      3936\n",
      "weighted avg       0.63      0.35      0.33      3936\n",
      "\n"
     ]
    },
    {
     "data": {
      "text/plain": [
       "array([1, 0, 1, ..., 1, 1, 1])"
      ]
     },
     "execution_count": 7,
     "metadata": {},
     "output_type": "execute_result"
    }
   ],
   "source": [
    "# Mejor modelo obtenido\n",
    "best_model = random_search.best_estimator_\n",
    "\n",
    "# Ajustar umbral de decisión para mejorar el recall\n",
    "def evaluate_model_threshold(model, X, y, threshold=0.5):\n",
    "    y_pred_proba = model.predict_proba(X)[:, 1]\n",
    "    y_pred = (y_pred_proba >= threshold).astype(int)\n",
    "    accuracy = accuracy_score(y, y_pred)\n",
    "    roc_auc = roc_auc_score(y, y_pred_proba)\n",
    "    print(f'Accuracy: {accuracy}')\n",
    "    print(f'ROC AUC: {roc_auc}')\n",
    "    print(classification_report(y, y_pred))\n",
    "    return y_pred\n",
    "\n",
    "# Evaluar en validación\n",
    "evaluate_model_threshold(best_model, X_val, y_val, threshold=0.4)\n",
    "\n",
    "# Evaluar en prueba\n",
    "evaluate_model_threshold(best_model, X_test, y_test, threshold=0.4)\n"
   ]
  },
  {
   "cell_type": "code",
   "execution_count": 8,
   "metadata": {},
   "outputs": [
    {
     "name": "stdout",
     "output_type": "stream",
     "text": [
      "Accuracy: 0.34866581956797965\n",
      "ROC AUC: 0.4927715689626169\n",
      "              precision    recall  f1-score   support\n",
      "\n",
      "         0.0       0.74      0.19      0.31      2928\n",
      "         1.0       0.25      0.80      0.39      1007\n",
      "\n",
      "    accuracy                           0.35      3935\n",
      "   macro avg       0.50      0.50      0.35      3935\n",
      "weighted avg       0.61      0.35      0.33      3935\n",
      "\n"
     ]
    },
    {
     "data": {
      "image/png": "[encoded data removed]",
      "text/plain": [
       "<Figure size 640x480 with 2 Axes>"
      ]
     },
     "metadata": {},
     "output_type": "display_data"
    },
    {
     "name": "stdout",
     "output_type": "stream",
     "text": [
      "Accuracy: 0.3470528455284553\n",
      "ROC AUC: 0.4962709414579205\n",
      "              precision    recall  f1-score   support\n",
      "\n",
      "         0.0       0.75      0.19      0.31      2955\n",
      "         1.0       0.25      0.81      0.38       981\n",
      "\n",
      "    accuracy                           0.35      3936\n",
      "   macro avg       0.50      0.50      0.34      3936\n",
      "weighted avg       0.63      0.35      0.33      3936\n",
      "\n"
     ]
    },
    {
     "data": {
      "image/png": "[encoded data removed]",
      "text/plain": [
       "<Figure size 640x480 with 2 Axes>"
      ]
     },
     "metadata": {},
     "output_type": "display_data"
    }
   ],
   "source": [
    "def plot_confusion_matrix(y_true, y_pred, title):\n",
    "    conf_matrix = confusion_matrix(y_true, y_pred)\n",
    "    sns.heatmap(conf_matrix, annot=True, fmt='d', cmap='Blues')\n",
    "    plt.xlabel('Predicted')\n",
    "    plt.ylabel('Actual')\n",
    "    plt.title(f'Confusion Matrix ({title})')\n",
    "    plt.show()\n",
    "\n",
    "# Matriz de confusión para validación\n",
    "y_val_pred = evaluate_model_threshold(best_model, X_val, y_val, threshold=0.4)\n",
    "plot_confusion_matrix(y_val, y_val_pred, 'Validation Set')\n",
    "\n",
    "# Matriz de confusión para prueba\n",
    "y_test_pred = evaluate_model_threshold(best_model, X_test, y_test, threshold=0.4)\n",
    "plot_confusion_matrix(y_test, y_test_pred, 'Test Set')\n"
   ]
  },
  {
   "cell_type": "code",
   "execution_count": null,
   "metadata": {},
   "outputs": [],
   "source": []
  },
  {
   "cell_type": "code",
   "execution_count": null,
   "metadata": {},
   "outputs": [],
   "source": []
  },
  {
   "cell_type": "code",
   "execution_count": null,
   "metadata": {},
   "outputs": [],
   "source": []
  },
  {
   "cell_type": "code",
   "execution_count": null,
   "metadata": {},
   "outputs": [],
   "source": []
  },
  {
   "cell_type": "code",
   "execution_count": null,
   "metadata": {},
   "outputs": [],
   "source": []
  }
 ],
 "metadata": {
  "kernelspec": {
   "display_name": "base",
   "language": "python",
   "name": "python3"
  },
  "language_info": {
   "codemirror_mode": {
    "name": "ipython",
    "version": 3
   },
   "file_extension": ".py",
   "mimetype": "text/x-python",
   "name": "python",
   "nbconvert_exporter": "python",
   "pygments_lexer": "ipython3",
   "version": "3.10.9"
  }
 },
 "nbformat": 4,
 "nbformat_minor": 2
}
