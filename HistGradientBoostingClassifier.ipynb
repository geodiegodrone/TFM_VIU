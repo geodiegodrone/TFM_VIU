{
 "cells": [
  {
   "cell_type": "code",
   "execution_count": 1,
   "metadata": {},
   "outputs": [
    {
     "name": "stderr",
     "output_type": "stream",
     "text": [
      "c:\\Users\\HOME\\anaconda3\\lib\\site-packages\\sklearn\\experimental\\enable_hist_gradient_boosting.py:16: UserWarning: Since version 1.0, it is not needed to import enable_hist_gradient_boosting anymore. HistGradientBoostingClassifier and HistGradientBoostingRegressor are now stable and can be normally imported from sklearn.ensemble.\n",
      "  warnings.warn(\n"
     ]
    }
   ],
   "source": [
    "import dask.dataframe as dd\n",
    "from dask.array import from_array\n",
    "import rasterio as rio\n",
    "from rasterio.enums import Resampling\n",
    "from rasterio.features import shapes\n",
    "from rasterio.mask import mask\n",
    "\n",
    "from sklearn.experimental import enable_hist_gradient_boosting\n",
    "from sklearn.ensemble import HistGradientBoostingClassifier, StackingClassifier\n",
    "from sklearn.linear_model import LogisticRegression\n",
    "from sklearn.tree import DecisionTreeClassifier\n",
    "from sklearn.model_selection import GridSearchCV, RandomizedSearchCV, train_test_split\n",
    "from sklearn.metrics import classification_report, roc_auc_score, accuracy_score, confusion_matrix, roc_curve\n",
    "from sklearn.utils.class_weight import compute_class_weight\n",
    "from imblearn.over_sampling import SMOTE\n",
    "from imblearn.combine import SMOTEENN\n",
    "from imblearn.under_sampling import RandomUnderSampler\n",
    "from imblearn.pipeline import Pipeline\n",
    "\n",
    "import numpy as np\n",
    "import pandas as pd\n",
    "import matplotlib.pyplot as plt\n",
    "import seaborn as sns\n",
    "import gc\n",
    "from scipy.ndimage import binary_dilation\n",
    "from scipy.spatial import cKDTree\n",
    "from shapely.geometry import shape, box\n",
    "from shapely.ops import unary_union\n",
    "import geopandas as gpd\n"
   ]
  },
  {
   "cell_type": "markdown",
   "metadata": {},
   "source": [
    "## Carga de Variables"
   ]
  },
  {
   "cell_type": "code",
   "execution_count": 2,
   "metadata": {},
   "outputs": [],
   "source": [
    "# Función para ajustar la longitud de los arrays\n",
    "def adjust_length(array, desired_length):\n",
    "    current_length = len(array)\n",
    "    if current_length > desired_length:\n",
    "        # Recortar el array\n",
    "        return array[:desired_length]\n",
    "    elif current_length < desired_length:\n",
    "        # Rellenar el array con NaNs\n",
    "        return np.concatenate([array, np.full(desired_length - current_length, np.nan)])\n",
    "    else:\n",
    "        return array"
   ]
  },
  {
   "cell_type": "code",
   "execution_count": 3,
   "metadata": {},
   "outputs": [
    {
     "name": "stdout",
     "output_type": "stream",
     "text": [
      "Nuevo raster guardado en: C:\\Users\\HOME\\radar_antioquia_sentinel\\raster\\inventario_filtrado.tif\n"
     ]
    }
   ],
   "source": [
    "# Ruta al archivo raster del inventario\n",
    "raster_path_inventario = r\"C:\\Users\\HOME\\radar_antioquia_sentinel\\raster\\inventario.tif\"\n",
    "output_path = r\"C:\\Users\\HOME\\radar_antioquia_sentinel\\raster\\inventario_filtrado.tif\"\n",
    "\n",
    "# Leer el raster de inventario\n",
    "with rio.open(raster_path_inventario) as src:\n",
    "    inventario = src.read(1)  # Leer la capa\n",
    "    meta = src.meta  # Leer los metadatos\n",
    "    meta.update(dtype='float32', nodata=np.nan)  # Actualizar metadatos para el nuevo raster\n",
    "\n",
    "# Identificar celdas con y sin movimientos en masa\n",
    "con_deslizamientos = (inventario == 1)\n",
    "sin_deslizamientos = (inventario == 0)\n",
    "\n",
    "# Aplicar un filtro de dilatación binaria para expandir las áreas de movimientos en masa\n",
    "# Esto creará un \"buffer\" alrededor de las celdas con movimientos en masa\n",
    "buffer_celdas = binary_dilation(con_deslizamientos, structure=np.ones((2, 2)))\n",
    "\n",
    "# Filtrar celdas sin deslizamientos que estén dentro del buffer\n",
    "filtrado_sin_deslizamientos = sin_deslizamientos & buffer_celdas\n",
    "\n",
    "# Crear el nuevo raster con las celdas de interés\n",
    "nuevo_raster = np.full_like(inventario, np.nan, dtype='float32')\n",
    "nuevo_raster[con_deslizamientos] = 1  # Mantener celdas con movimientos en masa\n",
    "nuevo_raster[filtrado_sin_deslizamientos] = 0  # Agregar celdas sin deslizamientos pero cercanas\n",
    "\n",
    "# Guardar el nuevo raster\n",
    "with rio.open(output_path, 'w', **meta) as dst:\n",
    "    dst.write(nuevo_raster, 1)\n",
    "\n",
    "print(f\"Nuevo raster guardado en: {output_path}\")\n"
   ]
  },
  {
   "cell_type": "code",
   "execution_count": 4,
   "metadata": {},
   "outputs": [
    {
     "name": "stdout",
     "output_type": "stream",
     "text": [
      "Metadatos del raster: {'driver': 'GTiff', 'dtype': 'float32', 'nodata': nan, 'width': 35798, 'height': 38309, 'count': 1, 'crs': CRS.from_epsg(9377), 'transform': Affine(10.0, 0.0, 4544725.24,\n",
      "       0.0, -10.0, 2540302.7176)}\n",
      "Número de celdas con movimientos en masa: 4935\n",
      "Tamaño del vector original sin NaNs: (19676,)\n",
      "Tamaño de la celda original: 10.0 x 10.0\n",
      "Conteo de valores en el vector inventario: {0.0: 14741, 1.0: 4935}\n",
      "Número de celdas sin deslizamientos: 14741\n"
     ]
    }
   ],
   "source": [
    "# Ruta al archivo raster del inventario\n",
    "raster_path_inventario = r\"C:\\Users\\HOME\\radar_antioquia_sentinel\\raster\\inventario_filtrado.tif\"\n",
    "\n",
    "# Leer los metadatos del raster\n",
    "with rio.open(raster_path_inventario) as src:\n",
    "    raster_meta_inventario = src.meta\n",
    "\n",
    "# Imprimir los metadatos del raster\n",
    "print(f\"Metadatos del raster: {raster_meta_inventario}\")\n",
    "\n",
    "# Leer el raster sin modificar la resolución\n",
    "with rio.open(raster_path_inventario) as src:\n",
    "    inventario = src.read(1)\n",
    "\n",
    "# Contar el número de celdas con movimientos en masa\n",
    "num_movimientos_masa = np.sum(inventario == 1)\n",
    "print(f\"Número de celdas con movimientos en masa: {num_movimientos_masa}\")\n",
    "\n",
    "# Ravel y eliminar NaNs\n",
    "inventario_vector = inventario.ravel()\n",
    "inventario_vector_MenM = inventario_vector[~np.isnan(inventario_vector)]\n",
    "\n",
    "print(f\"Tamaño del vector original sin NaNs: {inventario_vector_MenM.shape}\")\n",
    "\n",
    "# Obtener la transformación del raster original\n",
    "with rio.open(raster_path_inventario) as src:\n",
    "    original_transform_inventario = src.transform\n",
    "    original_cell_size_x_inventario = original_transform_inventario[0]\n",
    "    original_cell_size_y_inventario = -original_transform_inventario[4]\n",
    "\n",
    "print(f\"Tamaño de la celda original: {original_cell_size_x_inventario} x {original_cell_size_y_inventario}\")\n",
    "\n",
    "# Verificar el conteo de valores en el vector 'inventario_vector_MenM'\n",
    "unique, counts = np.unique(inventario_vector_MenM, return_counts=True)\n",
    "inventario_counts = dict(zip(unique, counts))\n",
    "print(f\"Conteo de valores en el vector inventario: {inventario_counts}\")\n",
    "\n",
    "# Contar celdas sin deslizamientos (valor 0)\n",
    "num_sin_deslizamientos = inventario_counts.get(0, 0)\n",
    "print(f\"Número de celdas sin deslizamientos: {num_sin_deslizamientos}\")"
   ]
  },
  {
   "cell_type": "code",
   "execution_count": 5,
   "metadata": {},
   "outputs": [
    {
     "name": "stdout",
     "output_type": "stream",
     "text": [
      "Metadatos del raster: {'driver': 'GTiff', 'dtype': 'float32', 'nodata': -3.4028234663852886e+38, 'width': 35798, 'height': 38309, 'count': 1, 'crs': CRS.from_epsg(9377), 'transform': Affine(10.0, 0.0, 4544725.24,\n",
      "       0.0, -10.0, 2540302.7176)}\n",
      "Valor Nodata: -3.4028234663852886e+38\n",
      "Tamaño del vector sin NaNs: (462827655,)\n",
      "Tamaño del vector ajustado: 19676\n",
      "Tamaño de la celda original: 10.0 x 10.0\n",
      "Cantidad de valores válidos en 'susceptibilidad_vector_MenM': 19676\n"
     ]
    }
   ],
   "source": [
    "# Ruta al archivo raster de susceptibilidad\n",
    "raster_path_susceptibilidad = r\"C:\\Users\\HOME\\radar_antioquia_sentinel\\raster\\susceptibilidad.tif\"\n",
    "\n",
    "# Leer los metadatos del raster y el valor nodata\n",
    "with rio.open(raster_path_susceptibilidad) as src:\n",
    "    raster_meta_susceptibilidad = src.meta\n",
    "    nodata_value_susceptibilidad = src.nodata\n",
    "\n",
    "# Imprimir los metadatos del raster y el valor nodata\n",
    "print(f\"Metadatos del raster: {raster_meta_susceptibilidad}\")\n",
    "print(f\"Valor Nodata: {nodata_value_susceptibilidad}\")\n",
    "\n",
    "# Leer el raster sin modificar la resolución\n",
    "with rio.open(raster_path_susceptibilidad) as src:\n",
    "    susceptibilidad = src.read(1)\n",
    "\n",
    "# Reemplazar valores no válidos\n",
    "susceptibilidad = np.where(susceptibilidad == nodata_value_susceptibilidad, np.nan, susceptibilidad)\n",
    "\n",
    "# Ravel y eliminar NaNs\n",
    "susceptibilidad_vector = susceptibilidad.ravel()\n",
    "susceptibilidad_vector_MenM = susceptibilidad_vector[~np.isnan(susceptibilidad_vector)]\n",
    "\n",
    "print(f\"Tamaño del vector sin NaNs: {susceptibilidad_vector_MenM.shape}\")\n",
    "\n",
    "# Ajustar la longitud del array a 19676\n",
    "desired_length = 19676\n",
    "susceptibilidad_vector_MenM = adjust_length(susceptibilidad_vector_MenM, desired_length)\n",
    "\n",
    "print(f\"Tamaño del vector ajustado: {len(susceptibilidad_vector_MenM)}\")\n",
    "\n",
    "# Obtener la transformación del raster original\n",
    "with rio.open(raster_path_susceptibilidad) as src:\n",
    "    original_transform_susceptibilidad = src.transform\n",
    "    original_cell_size_x_susceptibilidad = original_transform_susceptibilidad[0]\n",
    "    original_cell_size_y_susceptibilidad = -original_transform_susceptibilidad[4]\n",
    "\n",
    "print(f\"Tamaño de la celda original: {original_cell_size_x_susceptibilidad} x {original_cell_size_y_susceptibilidad}\")\n",
    "# Contar valores no NaN\n",
    "count_valid_values = len(susceptibilidad_vector_MenM)\n",
    "\n",
    "print(f\"Cantidad de valores válidos en 'susceptibilidad_vector_MenM': {count_valid_values}\")\n",
    "\n"
   ]
  },
  {
   "cell_type": "markdown",
   "metadata": {},
   "source": [
    "## Creación del DataFrame"
   ]
  },
  {
   "cell_type": "code",
   "execution_count": 6,
   "metadata": {},
   "outputs": [
    {
     "name": "stdout",
     "output_type": "stream",
     "text": [
      "['susceptibilidad', 'inventario']\n"
     ]
    }
   ],
   "source": [
    "# Crear DataFrame y reemplazar NaN con 0\n",
    "d = {'susceptibilidad': susceptibilidad_vector_MenM, 'inventario': inventario_vector_MenM}\n",
    "data = pd.DataFrame(d).fillna(0)\n",
    "print(list(data.columns))"
   ]
  },
  {
   "cell_type": "code",
   "execution_count": 7,
   "metadata": {},
   "outputs": [
    {
     "data": {
      "text/html": [
       "<div>\n",
       "<style scoped>\n",
       "    .dataframe tbody tr th:only-of-type {\n",
       "        vertical-align: middle;\n",
       "    }\n",
       "\n",
       "    .dataframe tbody tr th {\n",
       "        vertical-align: top;\n",
       "    }\n",
       "\n",
       "    .dataframe thead th {\n",
       "        text-align: right;\n",
       "    }\n",
       "</style>\n",
       "<table border=\"1\" class=\"dataframe\">\n",
       "  <thead>\n",
       "    <tr style=\"text-align: right;\">\n",
       "      <th></th>\n",
       "      <th>susceptibilidad</th>\n",
       "      <th>inventario</th>\n",
       "    </tr>\n",
       "  </thead>\n",
       "  <tbody>\n",
       "    <tr>\n",
       "      <th>0</th>\n",
       "      <td>64.795586</td>\n",
       "      <td>0.0</td>\n",
       "    </tr>\n",
       "    <tr>\n",
       "      <th>1</th>\n",
       "      <td>28.360430</td>\n",
       "      <td>0.0</td>\n",
       "    </tr>\n",
       "    <tr>\n",
       "      <th>2</th>\n",
       "      <td>52.262951</td>\n",
       "      <td>0.0</td>\n",
       "    </tr>\n",
       "    <tr>\n",
       "      <th>3</th>\n",
       "      <td>45.167225</td>\n",
       "      <td>1.0</td>\n",
       "    </tr>\n",
       "    <tr>\n",
       "      <th>4</th>\n",
       "      <td>34.011242</td>\n",
       "      <td>0.0</td>\n",
       "    </tr>\n",
       "  </tbody>\n",
       "</table>\n",
       "</div>"
      ],
      "text/plain": [
       "   susceptibilidad  inventario\n",
       "0        64.795586         0.0\n",
       "1        28.360430         0.0\n",
       "2        52.262951         0.0\n",
       "3        45.167225         1.0\n",
       "4        34.011242         0.0"
      ]
     },
     "execution_count": 7,
     "metadata": {},
     "output_type": "execute_result"
    }
   ],
   "source": [
    "data.head()\n"
   ]
  },
  {
   "cell_type": "code",
   "execution_count": null,
   "metadata": {},
   "outputs": [],
   "source": [
    "# Guardar el DataFrame en un archivo Parquet para liberar RAM\n",
    "data.to_parquet(r'C:\\Users\\HOME\\OneDrive - Universidad Nacional de Colombia\\maestria_big_data\\clases\\TFM\\codigo_TFM/data.parquet', index=False)"
   ]
  },
  {
   "cell_type": "code",
   "execution_count": null,
   "metadata": {},
   "outputs": [],
   "source": [
    "# Liberar memoria RAM\n",
    "del data"
   ]
  },
  {
   "cell_type": "code",
   "execution_count": null,
   "metadata": {},
   "outputs": [],
   "source": [
    "# Liberar memoria RAM ocupada por las variables de inventario\n",
    "del inventario, inventario_vector, original_transform_inventario\n",
    "gc.collect()"
   ]
  },
  {
   "cell_type": "code",
   "execution_count": null,
   "metadata": {},
   "outputs": [],
   "source": [
    "# Liberar memoria RAM ocupada por las variables de susceptibilidad\n",
    "del susceptibilidad, susceptibilidad_vector, original_transform_susceptibilidad\n",
    "gc.collect()"
   ]
  },
  {
   "cell_type": "markdown",
   "metadata": {},
   "source": [
    "## Carga del DataFrame"
   ]
  },
  {
   "cell_type": "code",
   "execution_count": 2,
   "metadata": {},
   "outputs": [],
   "source": [
    "# Cargar el DataFrame desde el archivo Parquet utilizando Dask\n",
    "data_dd = dd.read_parquet(r'C:\\Users\\HOME\\OneDrive - Universidad Nacional de Colombia\\maestria_big_data\\clases\\TFM\\codigo_TFM\\data.parquet', engine='pyarrow')\n",
    "#data_dd.head()"
   ]
  },
  {
   "cell_type": "code",
   "execution_count": 3,
   "metadata": {},
   "outputs": [
    {
     "name": "stdout",
     "output_type": "stream",
     "text": [
      "Conteo de valores en la columna 'inventario':\n",
      "0.0    14741\n",
      "1.0     4935\n",
      "Name: inventario, dtype: int64\n"
     ]
    }
   ],
   "source": [
    "# Contar el número de registros con valor 0 y 1 en la columna 'inventario'\n",
    "counts = data_dd['inventario'].value_counts().compute()\n",
    "\n",
    "print(f\"Conteo de valores en la columna 'inventario':\")\n",
    "print(counts)"
   ]
  },
  {
   "cell_type": "markdown",
   "metadata": {},
   "source": [
    "## HistGradientBoostingClassifier"
   ]
  },
  {
   "cell_type": "code",
   "execution_count": 4,
   "metadata": {},
   "outputs": [],
   "source": [
    "# Paso 1: Ajuste del Umbral de Clasificación\n",
    "def evaluate_model_threshold(model, X, y, threshold=0.5):\n",
    "    y_pred_proba = model.predict_proba(X)[:, 1]\n",
    "    y_pred = (y_pred_proba > threshold).astype(int)\n",
    "    print(f\"Threshold: {threshold}\")\n",
    "    print(\"Confusion Matrix:\")\n",
    "    print(confusion_matrix(y, y_pred))\n",
    "    print(\"Classification Report:\")\n",
    "    print(classification_report(y, y_pred))\n",
    "    print(f\"ROC AUC: {roc_auc_score(y, y_pred_proba)}\")"
   ]
  },
  {
   "cell_type": "code",
   "execution_count": 5,
   "metadata": {},
   "outputs": [],
   "source": [
    "# Convertir los datos de Dask a pandas\n",
    "data_pd = data_dd.compute()"
   ]
  },
  {
   "cell_type": "code",
   "execution_count": 6,
   "metadata": {},
   "outputs": [],
   "source": [
    "# Separar características y etiquetas de la muestra\n",
    "X = data_pd['susceptibilidad'].values.reshape(-1, 1)\n",
    "y = data_pd['inventario'].values"
   ]
  },
  {
   "cell_type": "code",
   "execution_count": 7,
   "metadata": {},
   "outputs": [
    {
     "data": {
      "text/plain": [
       "12"
      ]
     },
     "execution_count": 7,
     "metadata": {},
     "output_type": "execute_result"
    }
   ],
   "source": [
    "# Liberar memoria de los objetos que ya no se necesitan\n",
    "del data_pd\n",
    "gc.collect()"
   ]
  },
  {
   "cell_type": "code",
   "execution_count": 8,
   "metadata": {},
   "outputs": [],
   "source": [
    "# Separar los datos en conjuntos de entrenamiento, prueba y validación\n",
    "X_train, X_test, y_train, y_test = train_test_split(X, y, test_size=0.2, random_state=42)\n",
    "X_train, X_val, y_train, y_val = train_test_split(X_train, y_train, test_size=0.25, random_state=42)  # 0.25 x 0.8 = 0.2"
   ]
  },
  {
   "cell_type": "code",
   "execution_count": 9,
   "metadata": {},
   "outputs": [],
   "source": [
    "smote = SMOTE(random_state=42)\n",
    "under_sampler = RandomUnderSampler(random_state=42)"
   ]
  },
  {
   "cell_type": "code",
   "execution_count": 10,
   "metadata": {},
   "outputs": [],
   "source": [
    "# Combinación de SMOTE y submuestreo\n",
    "X_train_balanced, y_train_balanced = smote.fit_resample(X_train, y_train)\n",
    "X_train_balanced, y_train_balanced = under_sampler.fit_resample(X_train_balanced, y_train_balanced)"
   ]
  },
  {
   "cell_type": "code",
   "execution_count": 11,
   "metadata": {},
   "outputs": [],
   "source": [
    "# Paso 2: Modelos Alternativos o Combinados usando StackingClassifier\n",
    "base_learners = [\n",
    "    ('hist', HistGradientBoostingClassifier(random_state=42)),\n",
    "    ('tree', DecisionTreeClassifier(random_state=42)),\n",
    "    ('logreg', LogisticRegression(max_iter=1000, random_state=42))\n",
    "]\n",
    "\n",
    "stack_model = StackingClassifier(\n",
    "    estimators=base_learners,\n",
    "    final_estimator=LogisticRegression(),\n",
    "    n_jobs=-1\n",
    ")\n",
    "\n",
    "# Paso 3: Refinamiento de los Hiperparámetros usando RandomizedSearchCV con valores ampliados\n",
    "param_dist = {\n",
    "    'hist__learning_rate': [0.001, 0.01, 0.1, 0.3, 0.5, 0.7],  # Amplía el rango de tasas de aprendizaje\n",
    "    'hist__max_iter': [50, 100, 150, 200, 250, 300, 400],     # Más iteraciones para mayor ajuste\n",
    "    'hist__max_depth': [3, 5, 7, 10, 15, 20, 30, 40],         # Variar la profundidad máxima\n",
    "    'hist__min_samples_leaf': [10, 20, 30, 50, 75, 100, 150], # Menor y mayor número de muestras por hoja\n",
    "    'hist__max_leaf_nodes': [10, 15, 20, 31, 50, 75, 100],    # Variedad en número de nodos hoja\n",
    "    'hist__class_weight': [\n",
    "        {0: 1, 1: 5}, \n",
    "        {0: 1, 1: 10}, \n",
    "        {0: 1, 1: 20}, \n",
    "        {0: 1, 1: 50}, \n",
    "        'balanced'  # Agrega la opción 'balanced' para ajuste automático\n",
    "    ]\n",
    "}\n",
    "\n",
    "random_search = RandomizedSearchCV(\n",
    "    estimator=stack_model,\n",
    "    param_distributions=param_dist,\n",
    "    n_iter=50,  # Incrementa el número de iteraciones para explorar más combinaciones\n",
    "    scoring='roc_auc',\n",
    "    cv=5,\n",
    "    verbose=2,\n",
    "    n_jobs=-1,\n",
    "    random_state=42\n",
    ")"
   ]
  },
  {
   "cell_type": "code",
   "execution_count": 12,
   "metadata": {},
   "outputs": [
    {
     "name": "stdout",
     "output_type": "stream",
     "text": [
      "Fitting 5 folds for each of 50 candidates, totalling 250 fits\n"
     ]
    },
    {
     "data": {
      "text/html": [
       "<style>#sk-container-id-1 {color: black;background-color: white;}#sk-container-id-1 pre{padding: 0;}#sk-container-id-1 div.sk-toggleable {background-color: white;}#sk-container-id-1 label.sk-toggleable__label {cursor: pointer;display: block;width: 100%;margin-bottom: 0;padding: 0.3em;box-sizing: border-box;text-align: center;}#sk-container-id-1 label.sk-toggleable__label-arrow:before {content: \"▸\";float: left;margin-right: 0.25em;color: #696969;}#sk-container-id-1 label.sk-toggleable__label-arrow:hover:before {color: black;}#sk-container-id-1 div.sk-estimator:hover label.sk-toggleable__label-arrow:before {color: black;}#sk-container-id-1 div.sk-toggleable__content {max-height: 0;max-width: 0;overflow: hidden;text-align: left;background-color: #f0f8ff;}#sk-container-id-1 div.sk-toggleable__content pre {margin: 0.2em;color: black;border-radius: 0.25em;background-color: #f0f8ff;}#sk-container-id-1 input.sk-toggleable__control:checked~div.sk-toggleable__content {max-height: 200px;max-width: 100%;overflow: auto;}#sk-container-id-1 input.sk-toggleable__control:checked~label.sk-toggleable__label-arrow:before {content: \"▾\";}#sk-container-id-1 div.sk-estimator input.sk-toggleable__control:checked~label.sk-toggleable__label {background-color: #d4ebff;}#sk-container-id-1 div.sk-label input.sk-toggleable__control:checked~label.sk-toggleable__label {background-color: #d4ebff;}#sk-container-id-1 input.sk-hidden--visually {border: 0;clip: rect(1px 1px 1px 1px);clip: rect(1px, 1px, 1px, 1px);height: 1px;margin: -1px;overflow: hidden;padding: 0;position: absolute;width: 1px;}#sk-container-id-1 div.sk-estimator {font-family: monospace;background-color: #f0f8ff;border: 1px dotted black;border-radius: 0.25em;box-sizing: border-box;margin-bottom: 0.5em;}#sk-container-id-1 div.sk-estimator:hover {background-color: #d4ebff;}#sk-container-id-1 div.sk-parallel-item::after {content: \"\";width: 100%;border-bottom: 1px solid gray;flex-grow: 1;}#sk-container-id-1 div.sk-label:hover label.sk-toggleable__label {background-color: #d4ebff;}#sk-container-id-1 div.sk-serial::before {content: \"\";position: absolute;border-left: 1px solid gray;box-sizing: border-box;top: 0;bottom: 0;left: 50%;z-index: 0;}#sk-container-id-1 div.sk-serial {display: flex;flex-direction: column;align-items: center;background-color: white;padding-right: 0.2em;padding-left: 0.2em;position: relative;}#sk-container-id-1 div.sk-item {position: relative;z-index: 1;}#sk-container-id-1 div.sk-parallel {display: flex;align-items: stretch;justify-content: center;background-color: white;position: relative;}#sk-container-id-1 div.sk-item::before, #sk-container-id-1 div.sk-parallel-item::before {content: \"\";position: absolute;border-left: 1px solid gray;box-sizing: border-box;top: 0;bottom: 0;left: 50%;z-index: -1;}#sk-container-id-1 div.sk-parallel-item {display: flex;flex-direction: column;z-index: 1;position: relative;background-color: white;}#sk-container-id-1 div.sk-parallel-item:first-child::after {align-self: flex-end;width: 50%;}#sk-container-id-1 div.sk-parallel-item:last-child::after {align-self: flex-start;width: 50%;}#sk-container-id-1 div.sk-parallel-item:only-child::after {width: 0;}#sk-container-id-1 div.sk-dashed-wrapped {border: 1px dashed gray;margin: 0 0.4em 0.5em 0.4em;box-sizing: border-box;padding-bottom: 0.4em;background-color: white;}#sk-container-id-1 div.sk-label label {font-family: monospace;font-weight: bold;display: inline-block;line-height: 1.2em;}#sk-container-id-1 div.sk-label-container {text-align: center;}#sk-container-id-1 div.sk-container {/* jupyter's `normalize.less` sets `[hidden] { display: none; }` but bootstrap.min.css set `[hidden] { display: none !important; }` so we also need the `!important` here to be able to override the default hidden behavior on the sphinx rendered scikit-learn.org. See: https://github.com/scikit-learn/scikit-learn/issues/21755 */display: inline-block !important;position: relative;}#sk-container-id-1 div.sk-text-repr-fallback {display: none;}</style><div id=\"sk-container-id-1\" class=\"sk-top-container\"><div class=\"sk-text-repr-fallback\"><pre>RandomizedSearchCV(cv=5,\n",
       "                   estimator=StackingClassifier(estimators=[(&#x27;hist&#x27;,\n",
       "                                                             HistGradientBoostingClassifier(random_state=42)),\n",
       "                                                            (&#x27;tree&#x27;,\n",
       "                                                             DecisionTreeClassifier(random_state=42)),\n",
       "                                                            (&#x27;logreg&#x27;,\n",
       "                                                             LogisticRegression(max_iter=1000,\n",
       "                                                                                random_state=42))],\n",
       "                                                final_estimator=LogisticRegression(),\n",
       "                                                n_jobs=-1),\n",
       "                   n_iter=50, n_jobs=-1,\n",
       "                   param_distributions={&#x27;hist__class_weight&#x27;: [{0: 1, 1: 5},\n",
       "                                                               {0: 1, 1: 10},\n",
       "                                                               {0: 1, 1: 20},\n",
       "                                                               {0: 1, 1: 50},\n",
       "                                                               &#x27;balanced&#x27;],\n",
       "                                        &#x27;hist__learning_rate&#x27;: [0.001, 0.01,\n",
       "                                                                0.1, 0.3, 0.5,\n",
       "                                                                0.7],\n",
       "                                        &#x27;hist__max_depth&#x27;: [3, 5, 7, 10, 15, 20,\n",
       "                                                            30, 40],\n",
       "                                        &#x27;hist__max_iter&#x27;: [50, 100, 150, 200,\n",
       "                                                           250, 300, 400],\n",
       "                                        &#x27;hist__max_leaf_nodes&#x27;: [10, 15, 20, 31,\n",
       "                                                                 50, 75, 100],\n",
       "                                        &#x27;hist__min_samples_leaf&#x27;: [10, 20, 30,\n",
       "                                                                   50, 75, 100,\n",
       "                                                                   150]},\n",
       "                   random_state=42, scoring=&#x27;roc_auc&#x27;, verbose=2)</pre><b>In a Jupyter environment, please rerun this cell to show the HTML representation or trust the notebook. <br />On GitHub, the HTML representation is unable to render, please try loading this page with nbviewer.org.</b></div><div class=\"sk-container\" hidden><div class=\"sk-item sk-dashed-wrapped\"><div class=\"sk-label-container\"><div class=\"sk-label sk-toggleable\"><input class=\"sk-toggleable__control sk-hidden--visually\" id=\"sk-estimator-id-1\" type=\"checkbox\" ><label for=\"sk-estimator-id-1\" class=\"sk-toggleable__label sk-toggleable__label-arrow\">RandomizedSearchCV</label><div class=\"sk-toggleable__content\"><pre>RandomizedSearchCV(cv=5,\n",
       "                   estimator=StackingClassifier(estimators=[(&#x27;hist&#x27;,\n",
       "                                                             HistGradientBoostingClassifier(random_state=42)),\n",
       "                                                            (&#x27;tree&#x27;,\n",
       "                                                             DecisionTreeClassifier(random_state=42)),\n",
       "                                                            (&#x27;logreg&#x27;,\n",
       "                                                             LogisticRegression(max_iter=1000,\n",
       "                                                                                random_state=42))],\n",
       "                                                final_estimator=LogisticRegression(),\n",
       "                                                n_jobs=-1),\n",
       "                   n_iter=50, n_jobs=-1,\n",
       "                   param_distributions={&#x27;hist__class_weight&#x27;: [{0: 1, 1: 5},\n",
       "                                                               {0: 1, 1: 10},\n",
       "                                                               {0: 1, 1: 20},\n",
       "                                                               {0: 1, 1: 50},\n",
       "                                                               &#x27;balanced&#x27;],\n",
       "                                        &#x27;hist__learning_rate&#x27;: [0.001, 0.01,\n",
       "                                                                0.1, 0.3, 0.5,\n",
       "                                                                0.7],\n",
       "                                        &#x27;hist__max_depth&#x27;: [3, 5, 7, 10, 15, 20,\n",
       "                                                            30, 40],\n",
       "                                        &#x27;hist__max_iter&#x27;: [50, 100, 150, 200,\n",
       "                                                           250, 300, 400],\n",
       "                                        &#x27;hist__max_leaf_nodes&#x27;: [10, 15, 20, 31,\n",
       "                                                                 50, 75, 100],\n",
       "                                        &#x27;hist__min_samples_leaf&#x27;: [10, 20, 30,\n",
       "                                                                   50, 75, 100,\n",
       "                                                                   150]},\n",
       "                   random_state=42, scoring=&#x27;roc_auc&#x27;, verbose=2)</pre></div></div></div><div class=\"sk-parallel\"><div class=\"sk-parallel-item\"><div class=\"sk-item\"><div class=\"sk-label-container\"><div class=\"sk-label sk-toggleable\"><input class=\"sk-toggleable__control sk-hidden--visually\" id=\"sk-estimator-id-2\" type=\"checkbox\" ><label for=\"sk-estimator-id-2\" class=\"sk-toggleable__label sk-toggleable__label-arrow\">estimator: StackingClassifier</label><div class=\"sk-toggleable__content\"><pre>StackingClassifier(estimators=[(&#x27;hist&#x27;,\n",
       "                                HistGradientBoostingClassifier(random_state=42)),\n",
       "                               (&#x27;tree&#x27;,\n",
       "                                DecisionTreeClassifier(random_state=42)),\n",
       "                               (&#x27;logreg&#x27;,\n",
       "                                LogisticRegression(max_iter=1000,\n",
       "                                                   random_state=42))],\n",
       "                   final_estimator=LogisticRegression(), n_jobs=-1)</pre></div></div></div><div class=\"sk-serial\"><div class=\"sk-item\"><div class=\"sk-serial\"><div class=\"sk-item\"><div class=\"sk-parallel\"><div class=\"sk-parallel-item\"><div class=\"sk-item\"><div class=\"sk-label-container\"><div class=\"sk-label sk-toggleable\"><label>hist</label></div></div><div class=\"sk-serial\"><div class=\"sk-item\"><div class=\"sk-estimator sk-toggleable\"><input class=\"sk-toggleable__control sk-hidden--visually\" id=\"sk-estimator-id-3\" type=\"checkbox\" ><label for=\"sk-estimator-id-3\" class=\"sk-toggleable__label sk-toggleable__label-arrow\">HistGradientBoostingClassifier</label><div class=\"sk-toggleable__content\"><pre>HistGradientBoostingClassifier(random_state=42)</pre></div></div></div></div></div></div><div class=\"sk-parallel-item\"><div class=\"sk-item\"><div class=\"sk-label-container\"><div class=\"sk-label sk-toggleable\"><label>tree</label></div></div><div class=\"sk-serial\"><div class=\"sk-item\"><div class=\"sk-estimator sk-toggleable\"><input class=\"sk-toggleable__control sk-hidden--visually\" id=\"sk-estimator-id-4\" type=\"checkbox\" ><label for=\"sk-estimator-id-4\" class=\"sk-toggleable__label sk-toggleable__label-arrow\">DecisionTreeClassifier</label><div class=\"sk-toggleable__content\"><pre>DecisionTreeClassifier(random_state=42)</pre></div></div></div></div></div></div><div class=\"sk-parallel-item\"><div class=\"sk-item\"><div class=\"sk-label-container\"><div class=\"sk-label sk-toggleable\"><label>logreg</label></div></div><div class=\"sk-serial\"><div class=\"sk-item\"><div class=\"sk-estimator sk-toggleable\"><input class=\"sk-toggleable__control sk-hidden--visually\" id=\"sk-estimator-id-5\" type=\"checkbox\" ><label for=\"sk-estimator-id-5\" class=\"sk-toggleable__label sk-toggleable__label-arrow\">LogisticRegression</label><div class=\"sk-toggleable__content\"><pre>LogisticRegression(max_iter=1000, random_state=42)</pre></div></div></div></div></div></div></div></div><div class=\"sk-item\"><div class=\"sk-parallel\"><div class=\"sk-parallel-item\"><div class=\"sk-item\"><div class=\"sk-label-container\"><div class=\"sk-label sk-toggleable\"><label>final_estimator</label></div></div><div class=\"sk-serial\"><div class=\"sk-item\"><div class=\"sk-estimator sk-toggleable\"><input class=\"sk-toggleable__control sk-hidden--visually\" id=\"sk-estimator-id-6\" type=\"checkbox\" ><label for=\"sk-estimator-id-6\" class=\"sk-toggleable__label sk-toggleable__label-arrow\">LogisticRegression</label><div class=\"sk-toggleable__content\"><pre>LogisticRegression()</pre></div></div></div></div></div></div></div></div></div></div></div></div></div></div></div></div></div>"
      ],
      "text/plain": [
       "RandomizedSearchCV(cv=5,\n",
       "                   estimator=StackingClassifier(estimators=[('hist',\n",
       "                                                             HistGradientBoostingClassifier(random_state=42)),\n",
       "                                                            ('tree',\n",
       "                                                             DecisionTreeClassifier(random_state=42)),\n",
       "                                                            ('logreg',\n",
       "                                                             LogisticRegression(max_iter=1000,\n",
       "                                                                                random_state=42))],\n",
       "                                                final_estimator=LogisticRegression(),\n",
       "                                                n_jobs=-1),\n",
       "                   n_iter=50, n_jobs=-1,\n",
       "                   param_distributions={'hist__class_weight': [{0: 1, 1: 5},\n",
       "                                                               {0: 1, 1: 10},\n",
       "                                                               {0: 1, 1: 20},\n",
       "                                                               {0: 1, 1: 50},\n",
       "                                                               'balanced'],\n",
       "                                        'hist__learning_rate': [0.001, 0.01,\n",
       "                                                                0.1, 0.3, 0.5,\n",
       "                                                                0.7],\n",
       "                                        'hist__max_depth': [3, 5, 7, 10, 15, 20,\n",
       "                                                            30, 40],\n",
       "                                        'hist__max_iter': [50, 100, 150, 200,\n",
       "                                                           250, 300, 400],\n",
       "                                        'hist__max_leaf_nodes': [10, 15, 20, 31,\n",
       "                                                                 50, 75, 100],\n",
       "                                        'hist__min_samples_leaf': [10, 20, 30,\n",
       "                                                                   50, 75, 100,\n",
       "                                                                   150]},\n",
       "                   random_state=42, scoring='roc_auc', verbose=2)"
      ]
     },
     "execution_count": 12,
     "metadata": {},
     "output_type": "execute_result"
    }
   ],
   "source": [
    "# Entrenar el modelo\n",
    "random_search.fit(X_train_balanced, y_train_balanced)"
   ]
  },
  {
   "cell_type": "code",
   "execution_count": 13,
   "metadata": {},
   "outputs": [
    {
     "name": "stdout",
     "output_type": "stream",
     "text": [
      "Best parameters found:  {'hist__min_samples_leaf': 10, 'hist__max_leaf_nodes': 100, 'hist__max_iter': 250, 'hist__max_depth': 40, 'hist__learning_rate': 0.3, 'hist__class_weight': {0: 1, 1: 50}}\n"
     ]
    }
   ],
   "source": [
    "# Mejor modelo\n",
    "best_model = random_search.best_estimator_\n",
    "print(\"Best parameters found: \", random_search.best_params_)"
   ]
  },
  {
   "cell_type": "code",
   "execution_count": 14,
   "metadata": {},
   "outputs": [
    {
     "name": "stdout",
     "output_type": "stream",
     "text": [
      "Evaluación en el Conjunto de Validación:\n",
      "\n",
      "--- Evaluación del Modelo con Umbral de Predicción: 0.3 ---\n",
      "Precisión del Modelo (Accuracy): 0.26\n",
      "AUC-ROC (Área Bajo la Curva): 0.51\n",
      "\n",
      "--- Matriz de Confusión ---\n",
      "La matriz de confusión muestra cómo el modelo clasifica correctamente o se equivoca en las predicciones:\n"
     ]
    },
    {
     "name": "stderr",
     "output_type": "stream",
     "text": [
      "c:\\Users\\HOME\\anaconda3\\lib\\site-packages\\sklearn\\metrics\\_classification.py:1344: UndefinedMetricWarning: Precision and F-score are ill-defined and being set to 0.0 in labels with no predicted samples. Use `zero_division` parameter to control this behavior.\n",
      "  _warn_prf(average, modifier, msg_start, len(result))\n",
      "c:\\Users\\HOME\\anaconda3\\lib\\site-packages\\sklearn\\metrics\\_classification.py:1344: UndefinedMetricWarning: Precision and F-score are ill-defined and being set to 0.0 in labels with no predicted samples. Use `zero_division` parameter to control this behavior.\n",
      "  _warn_prf(average, modifier, msg_start, len(result))\n",
      "c:\\Users\\HOME\\anaconda3\\lib\\site-packages\\sklearn\\metrics\\_classification.py:1344: UndefinedMetricWarning: Precision and F-score are ill-defined and being set to 0.0 in labels with no predicted samples. Use `zero_division` parameter to control this behavior.\n",
      "  _warn_prf(average, modifier, msg_start, len(result))\n"
     ]
    },
    {
     "data": {
      "image/png": "[encoded data removed]",
      "text/plain": [
       "<Figure size 640x480 with 2 Axes>"
      ]
     },
     "metadata": {},
     "output_type": "display_data"
    },
    {
     "name": "stdout",
     "output_type": "stream",
     "text": [
      "\n",
      "--- Reporte de Clasificación ---\n",
      "El reporte de clasificación incluye precisión, recall y f1-score para cada clase:\n",
      "                    precision    recall  f1-score   support\n",
      "\n",
      "Sin Deslizamientos       0.00      0.00      0.00      2928\n",
      "Con Deslizamientos       0.26      1.00      0.41      1007\n",
      "\n",
      "          accuracy                           0.26      3935\n",
      "         macro avg       0.13      0.50      0.20      3935\n",
      "      weighted avg       0.07      0.26      0.10      3935\n",
      "\n",
      "Evaluación en el Conjunto de Prueba:\n"
     ]
    },
    {
     "name": "stderr",
     "output_type": "stream",
     "text": [
      "c:\\Users\\HOME\\anaconda3\\lib\\site-packages\\sklearn\\metrics\\_classification.py:1344: UndefinedMetricWarning: Precision and F-score are ill-defined and being set to 0.0 in labels with no predicted samples. Use `zero_division` parameter to control this behavior.\n",
      "  _warn_prf(average, modifier, msg_start, len(result))\n"
     ]
    },
    {
     "name": "stdout",
     "output_type": "stream",
     "text": [
      "\n",
      "--- Evaluación del Modelo con Umbral de Predicción: 0.3 ---\n",
      "Precisión del Modelo (Accuracy): 0.25\n",
      "AUC-ROC (Área Bajo la Curva): 0.48\n",
      "\n",
      "--- Matriz de Confusión ---\n",
      "La matriz de confusión muestra cómo el modelo clasifica correctamente o se equivoca en las predicciones:\n"
     ]
    },
    {
     "name": "stderr",
     "output_type": "stream",
     "text": [
      "c:\\Users\\HOME\\anaconda3\\lib\\site-packages\\sklearn\\metrics\\_classification.py:1344: UndefinedMetricWarning: Precision and F-score are ill-defined and being set to 0.0 in labels with no predicted samples. Use `zero_division` parameter to control this behavior.\n",
      "  _warn_prf(average, modifier, msg_start, len(result))\n",
      "c:\\Users\\HOME\\anaconda3\\lib\\site-packages\\sklearn\\metrics\\_classification.py:1344: UndefinedMetricWarning: Precision and F-score are ill-defined and being set to 0.0 in labels with no predicted samples. Use `zero_division` parameter to control this behavior.\n",
      "  _warn_prf(average, modifier, msg_start, len(result))\n"
     ]
    },
    {
     "data": {
      "image/png": "[encoded data removed]",
      "text/plain": [
       "<Figure size 640x480 with 2 Axes>"
      ]
     },
     "metadata": {},
     "output_type": "display_data"
    },
    {
     "name": "stdout",
     "output_type": "stream",
     "text": [
      "\n",
      "--- Reporte de Clasificación ---\n",
      "El reporte de clasificación incluye precisión, recall y f1-score para cada clase:\n",
      "                    precision    recall  f1-score   support\n",
      "\n",
      "Sin Deslizamientos       0.00      0.00      0.00      2955\n",
      "Con Deslizamientos       0.25      1.00      0.40       981\n",
      "\n",
      "          accuracy                           0.25      3936\n",
      "         macro avg       0.12      0.50      0.20      3936\n",
      "      weighted avg       0.06      0.25      0.10      3936\n",
      "\n"
     ]
    }
   ],
   "source": [
    "def evaluate_model_threshold(model, X, y, threshold=0.3):\n",
    "    # Obtener las probabilidades de predicción\n",
    "    y_pred_proba = model.predict_proba(X)[:, 1]\n",
    "    \n",
    "    # Aplicar el umbral para definir la clase predicha\n",
    "    y_pred = (y_pred_proba >= threshold).astype(int)\n",
    "    \n",
    "    # Calcular métricas de evaluación\n",
    "    accuracy = accuracy_score(y, y_pred)\n",
    "    roc_auc = roc_auc_score(y, y_pred_proba)\n",
    "    report = classification_report(y, y_pred, target_names=['Sin Deslizamientos', 'Con Deslizamientos'])\n",
    "    conf_matrix = confusion_matrix(y, y_pred)\n",
    "\n",
    "    # Imprimir resultados con explicaciones claras\n",
    "    print(f\"\\n--- Evaluación del Modelo con Umbral de Predicción: {threshold} ---\")\n",
    "    print(f\"Precisión del Modelo (Accuracy): {accuracy:.2f}\")\n",
    "    print(f\"AUC-ROC (Área Bajo la Curva): {roc_auc:.2f}\")\n",
    "    print(\"\\n--- Matriz de Confusión ---\")\n",
    "    print(\"La matriz de confusión muestra cómo el modelo clasifica correctamente o se equivoca en las predicciones:\")\n",
    "    sns.heatmap(conf_matrix, annot=True, fmt='d', cmap='Blues', xticklabels=['Predicho: Sin Deslizamientos', 'Predicho: Con Deslizamientos'], \n",
    "                yticklabels=['Real: Sin Deslizamientos', 'Real: Con Deslizamientos'])\n",
    "    plt.xlabel('Predicted')\n",
    "    plt.ylabel('Actual')\n",
    "    plt.title(f'Confusion Matrix (Threshold: {threshold})')\n",
    "    plt.show()\n",
    "    \n",
    "    print(\"\\n--- Reporte de Clasificación ---\")\n",
    "    print(\"El reporte de clasificación incluye precisión, recall y f1-score para cada clase:\")\n",
    "    print(report)\n",
    "\n",
    "# Evaluar en conjunto de validación con ajuste de umbral\n",
    "print(\"Evaluación en el Conjunto de Validación:\")\n",
    "evaluate_model_threshold(best_model, X_val, y_val, threshold=0.3)\n",
    "\n",
    "# Evaluar en conjunto de prueba con ajuste de umbral\n",
    "print(\"Evaluación en el Conjunto de Prueba:\")\n",
    "evaluate_model_threshold(best_model, X_test, y_test, threshold=0.3)\n"
   ]
  }
 ],
 "metadata": {
  "kernelspec": {
   "display_name": "base",
   "language": "python",
   "name": "python3"
  },
  "language_info": {
   "codemirror_mode": {
    "name": "ipython",
    "version": 3
   },
   "file_extension": ".py",
   "mimetype": "text/x-python",
   "name": "python",
   "nbconvert_exporter": "python",
   "pygments_lexer": "ipython3",
   "version": "3.10.9"
  }
 },
 "nbformat": 4,
 "nbformat_minor": 2
}
